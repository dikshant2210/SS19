{
 "cells": [
  {
   "cell_type": "markdown",
   "metadata": {
    "slideshow": {
     "slide_type": "slide"
    }
   },
   "source": [
    "# MNIST Digit Classification\n",
    "\n",
    "## Recurrent Neural Nets\n",
    "\n",
    "####  *Binu Jasim, PhD Scholar, CVIT, IIIT Hyderabad*\n",
    "\n",
    "To better understand RNNs, let's try image classification."
   ]
  },
  {
   "cell_type": "markdown",
   "metadata": {
    "slideshow": {
     "slide_type": "slide"
    }
   },
   "source": [
    "## A few standard imports"
   ]
  },
  {
   "cell_type": "code",
   "execution_count": 1,
   "metadata": {
    "slideshow": {
     "slide_type": "fragment"
    }
   },
   "outputs": [],
   "source": [
    "import torch\n",
    "from torchvision import datasets, transforms\n",
    "import torch.nn as nn\n",
    "import torch.nn.functional as F\n",
    "import torch.optim as optim\n",
    "import os\n",
    "from matplotlib import pyplot as plt\n",
    "from tqdm import tqdm_notebook as tqdm\n",
    "from torchvision.utils import make_grid\n",
    "%matplotlib inline\n"
   ]
  },
  {
   "cell_type": "markdown",
   "metadata": {
    "slideshow": {
     "slide_type": "slide"
    }
   },
   "source": [
    "## A few global parameters, to make our lives easier."
   ]
  },
  {
   "cell_type": "code",
   "execution_count": 2,
   "metadata": {
    "slideshow": {
     "slide_type": "fragment"
    }
   },
   "outputs": [],
   "source": [
    "DATA_ROOT = 'data/'\n",
    "batch_size = 20\n",
    "epochs = 5\n",
    "use_cuda = torch.cuda.is_available()\n",
    "device = torch.device(\"cuda\" if use_cuda else \"cpu\")"
   ]
  },
  {
   "cell_type": "markdown",
   "metadata": {
    "slideshow": {
     "slide_type": "slide"
    }
   },
   "source": [
    "## MNIST Dataset\n",
    "\n",
    "MNIST is a standard dataset of 28x28 images of handwritten digits from 0-9. There are 60,000 training images and 10k test images."
   ]
  },
  {
   "cell_type": "markdown",
   "metadata": {
    "slideshow": {
     "slide_type": "slide"
    }
   },
   "source": [
    "### Loading Data\n",
    "\n",
    "We'll follow pytorch recommended semantics, and use a dataloader to load the data. "
   ]
  },
  {
   "cell_type": "code",
   "execution_count": 3,
   "metadata": {
    "slideshow": {
     "slide_type": "slide"
    }
   },
   "outputs": [],
   "source": [
    "# train data\n",
    "mnist_path = os.path.join(DATA_ROOT, 'mnist')\n",
    "train_loader = torch.utils.data.DataLoader(\n",
    "    datasets.MNIST(mnist_path, train=True, download=True,\n",
    "                   transform=transforms.Compose([\n",
    "                       transforms.ToTensor(),\n",
    "                       transforms.Normalize((0.1307,), (0.3081,))\n",
    "                   ])),\n",
    "    batch_size=batch_size, shuffle=True)\n",
    "\n",
    "# test data\n",
    "test_loader = torch.utils.data.DataLoader(\n",
    "    datasets.MNIST(mnist_path, train=False, transform=transforms.Compose([\n",
    "                       transforms.ToTensor(),\n",
    "                       transforms.Normalize((0.1307,), (0.3081,))\n",
    "                   ])), batch_size=batch_size, shuffle=False)"
   ]
  },
  {
   "cell_type": "markdown",
   "metadata": {
    "slideshow": {
     "slide_type": "slide"
    }
   },
   "source": [
    "### Take a look at the data?\n",
    "\n",
    "We use `torchvision.utils.make_grid` to get a nice view of the data, you'll often in tutorials."
   ]
  },
  {
   "cell_type": "code",
   "execution_count": 4,
   "metadata": {
    "slideshow": {
     "slide_type": "subslide"
    }
   },
   "outputs": [
    {
     "name": "stderr",
     "output_type": "stream",
     "text": [
      "Clipping input data to the valid range for imshow with RGB data ([0..1] for floats or [0..255] for integers).\n"
     ]
    },
    {
     "data": {
      "image/png": "[encoded data removed]",
      "text/plain": [
       "<Figure size 720x720 with 1 Axes>"
      ]
     },
     "metadata": {
      "needs_background": "light"
     },
     "output_type": "display_data"
    }
   ],
   "source": [
    "sample = next(iter(train_loader))\n",
    "samples, truths = sample\n",
    "for_grid = samples.squeeze(0)[:30, :, :, :]\n",
    "img = make_grid(for_grid, nrow=10)\n",
    "C, W, H = 0, 1, 2\n",
    "img = img.permute(W, H, C)\n",
    "plt.figure(figsize=(10, 10))\n",
    "plt.imshow(img, cmap='jet')\n",
    "plt.show()"
   ]
  },
  {
   "cell_type": "markdown",
   "metadata": {
    "slideshow": {
     "slide_type": "slide"
    }
   },
   "source": [
    "## Describing the input\n",
    "\n",
    "Unlike CNNs, RNNs can take in variable length sequences and takes in one input vector at a time. In context of MNIST, we take a look at how to formulate it for our problem.\n",
    "\n",
    "\n",
    "Consider an image as a sequence of column pixels. \n",
    "\n",
    "For example if the original image is 28x28, then we consider it a sequence of length 28 with each element of the sequence being a 28 dimensional column vector. Our objective is to correctly predict the class of the image."
   ]
  },
  {
   "cell_type": "code",
   "execution_count": 5,
   "metadata": {
    "slideshow": {
     "slide_type": "subslide"
    }
   },
   "outputs": [
    {
     "data": {
      "image/png": "[encoded data removed]",
      "text/plain": [
       "<Figure size 720x720 with 1 Axes>"
      ]
     },
     "metadata": {
      "needs_background": "light"
     },
     "output_type": "display_data"
    }
   ],
   "source": [
    "sample = next(iter(train_loader))\n",
    "samples, truths = sample\n",
    "img = samples.squeeze(1)[0]\n",
    "W, H = 0, 1\n",
    "img = img.permute(W, H)\n",
    "plt.figure(figsize=(10, 10))\n",
    "plt.imshow(img, cmap='gray')\n",
    "plt.xlabel(\"time\", fontsize=24)\n",
    "plt.ylabel(\"input vector\", fontsize=24)\n",
    "plt.show()"
   ]
  },
  {
   "cell_type": "markdown",
   "metadata": {
    "slideshow": {
     "slide_type": "fragment"
    }
   },
   "source": [
    "We'll use the images' x width as the time ax, and the column corresponding to each point as the input vector. "
   ]
  },
  {
   "cell_type": "code",
   "execution_count": 6,
   "metadata": {
    "slideshow": {
     "slide_type": "subslide"
    }
   },
   "outputs": [
    {
     "data": {
      "image/png": "[encoded data removed]",
      "text/plain": [
       "<Figure size 432x288 with 1 Axes>"
      ]
     },
     "metadata": {
      "needs_background": "light"
     },
     "output_type": "display_data"
    }
   ],
   "source": [
    "img2 = img.clone()\n",
    "white = img2.max().item()\n",
    "black = img2.min().item()\n",
    "img2 = white - img2 # invert\n",
    "plt.imshow(img2, cmap='gray')\n",
    "H, W = img2.size()\n",
    "placeholder = img2.new_full((H, 3*W), white)\n",
    "for t in range(W):\n",
    "    placeholder[:, 3*t] = img2[:, t]\n",
    "    \n",
    "plt.imshow(placeholder, cmap='gray')\n",
    "plt.axis(\"off\")\n",
    "plt.show()"
   ]
  },
  {
   "cell_type": "markdown",
   "metadata": {
    "slideshow": {
     "slide_type": "slide"
    }
   },
   "source": [
    "## Define Model"
   ]
  },
  {
   "cell_type": "markdown",
   "metadata": {
    "slideshow": {
     "slide_type": "slide"
    }
   },
   "source": [
    "### Types\n",
    "\n",
    "![Courtesy: Karpathy, Unreasonable Effectiveness of RNNs](static/diags.jpeg)\n",
    "\n",
    "Which one do you think we'll be using?"
   ]
  },
  {
   "cell_type": "markdown",
   "metadata": {
    "slideshow": {
     "slide_type": "subslide"
    }
   },
   "source": [
    "## Model Description\n",
    "We define a recurrent network that predicts the MNIST image. The components\n",
    "        required are:\n",
    "        \n",
    "- `gru`: applying the GRU on the sequential input returns an output for each token in the sequence\n",
    "- `fc`: a fully connected layer that converts the LSTM output for each token to a distribution over classes\n"
   ]
  },
  {
   "cell_type": "code",
   "execution_count": 8,
   "metadata": {
    "slideshow": {
     "slide_type": "subslide"
    }
   },
   "outputs": [],
   "source": [
    "class RnnNet(nn.Module):\n",
    "    def __init__(self, batch_size=10):\n",
    "        \n",
    "        super(RnnNet, self).__init__()\n",
    "        self.input_dim = 28\n",
    "        self.seq_len = 28\n",
    "        self.hidden_dim = 100\n",
    "        self.batch_size = batch_size\n",
    "        self.num_class = 10\n",
    "        \n",
    "        self.rnn = nn.GRU(self.input_dim, self.hidden_dim, batch_first=True)\n",
    "        self.fc = nn.Linear(self.hidden_dim, self.num_class)\n",
    "\n",
    "    def forward(self, x):\n",
    "       \n",
    "        # h0 = torch.randn(1, self.batch_size, self.hidden_dim).to(device)\n",
    "        # run the LSTM along the sequences of length seq_len\n",
    "        \n",
    "        _, x = self.rnn(x)      # dim (same as h0):  1 x batch_size x hidden_dim\n",
    "        x = x.squeeze(0)        # dim: batch_size x hidden_dim\n",
    "            \n",
    "        x = self.fc(x)          # dim: batch_size x num_tags\n",
    "        return F.log_softmax(x, dim=1)"
   ]
  },
  {
   "cell_type": "markdown",
   "metadata": {
    "slideshow": {
     "slide_type": "slide"
    }
   },
   "source": [
    "## Piecing our work together"
   ]
  },
  {
   "cell_type": "markdown",
   "metadata": {
    "slideshow": {
     "slide_type": "slide"
    }
   },
   "source": [
    "## Train Routine"
   ]
  },
  {
   "cell_type": "code",
   "execution_count": 9,
   "metadata": {
    "slideshow": {
     "slide_type": "fragment"
    }
   },
   "outputs": [],
   "source": [
    "def train(model, device, train_loader, optimizer, epoch, log_interval=100):\n",
    "    model.train()\n",
    "    for batch_idx, (data, target) in enumerate(train_loader):\n",
    "        data, target = data.to(device), target.to(device)\n",
    "        # data = data.view(-1, 784, 1) # original data is of dim: (batch_size x 1 x 28 x 28)\n",
    "        data = data.squeeze(1)\n",
    "        optimizer.zero_grad()\n",
    "        output = model(data)\n",
    "        # print(output.shape)\n",
    "        loss = F.nll_loss(output, target)\n",
    "        loss.backward()\n",
    "        optimizer.step()\n",
    "        #if batch_idx % log_interval == 0:\n",
    "            #print('Train Epoch: {} [{}/{} ({:.0f}%)]\\tLoss: {:.6f}'.format(\n",
    "                #epoch, batch_idx * len(data), len(train_loader.dataset),\n",
    "                #100. * batch_idx / len(train_loader), loss.item()))\n",
    "\n"
   ]
  },
  {
   "cell_type": "markdown",
   "metadata": {
    "slideshow": {
     "slide_type": "subslide"
    }
   },
   "source": [
    "## Test Routine"
   ]
  },
  {
   "cell_type": "code",
   "execution_count": 10,
   "metadata": {
    "slideshow": {
     "slide_type": "fragment"
    }
   },
   "outputs": [],
   "source": [
    "def test(model, device, test_loader):\n",
    "    model.eval()\n",
    "    test_loss = 0\n",
    "    correct = 0\n",
    "    with torch.no_grad():\n",
    "        for data, target in test_loader:\n",
    "            data, target = data.to(device), target.to(device)\n",
    "            # data = data.view(-1, 784, 1) # original data is of dim: (batch_size x 1 x 28 x 28)\n",
    "            data = data.squeeze(1)\n",
    "            output = model(data)\n",
    "            test_loss += F.nll_loss(output, target, size_average=False).item() # sum up batch loss\n",
    "            pred = output.max(1, keepdim=True)[1] # get the index of the max log-probability\n",
    "            correct += pred.eq(target.view_as(pred)).sum().item()\n",
    "\n",
    "    test_loss /= len(test_loader.dataset)\n",
    "    print('Test set: Average loss: {:.4f}, Accuracy: {}/{} ({:.2f}%)'.format(\n",
    "        test_loss, correct, len(test_loader.dataset),\n",
    "        100. * correct / len(test_loader.dataset)))"
   ]
  },
  {
   "cell_type": "markdown",
   "metadata": {
    "collapsed": true,
    "slideshow": {
     "slide_type": "slide"
    }
   },
   "source": [
    "## Running "
   ]
  },
  {
   "cell_type": "code",
   "execution_count": 11,
   "metadata": {
    "slideshow": {
     "slide_type": "fragment"
    }
   },
   "outputs": [],
   "source": [
    "model = RnnNet(batch_size=batch_size).to(device)\n",
    "optimizer = optim.Adam(model.parameters(), lr=0.001)#, momentum=0.9)"
   ]
  },
  {
   "cell_type": "code",
   "execution_count": 12,
   "metadata": {
    "slideshow": {
     "slide_type": "slide"
    }
   },
   "outputs": [
    {
     "data": {
      "application/vnd.jupyter.widget-view+json": {
       "model_id": "266f3cc8acc040c2af04617de8e3c721",
       "version_major": 2,
       "version_minor": 0
      },
      "text/plain": [
       "HBox(children=(IntProgress(value=0, description='epoch', max=5, style=ProgressStyle(description_width='initial…"
      ]
     },
     "metadata": {},
     "output_type": "display_data"
    },
    {
     "name": "stderr",
     "output_type": "stream",
     "text": [
      "/home/manisha.padala/env3/lib/python3.5/site-packages/torch/nn/functional.py:52: UserWarning: size_average and reduce args will be deprecated, please use reduction='sum' instead.\n",
      "  warnings.warn(warning.format(ret))\n"
     ]
    },
    {
     "name": "stdout",
     "output_type": "stream",
     "text": [
      "Test set: Average loss: 0.1329, Accuracy: 9590/10000 (95.90%)\n",
      "Test set: Average loss: 0.0587, Accuracy: 9830/10000 (98.30%)\n",
      "Test set: Average loss: 0.0456, Accuracy: 9870/10000 (98.70%)\n",
      "Test set: Average loss: 0.0556, Accuracy: 9831/10000 (98.31%)\n",
      "Test set: Average loss: 0.0420, Accuracy: 9872/10000 (98.72%)\n",
      "\n"
     ]
    }
   ],
   "source": [
    "for epoch in tqdm(range(1, epochs + 1), desc='epoch'):\n",
    "    train(model, device, train_loader, optimizer, epoch)\n",
    "    test(model, device, test_loader)"
   ]
  },
  {
   "cell_type": "markdown",
   "metadata": {
    "slideshow": {
     "slide_type": "slide"
    }
   },
   "source": [
    "## Exercises/Questions\n",
    "\n",
    "1. Instead of 28x28 sequence, what if we consider the image as a 1x784 sequence. How would you modify the RnnNet defined above? Why does it take more time to run?\n",
    "2. MNIST looks like a character level OCR. In what ways would RNNs be better than CNNs at say OCR problems?"
   ]
  },
  {
   "cell_type": "code",
   "execution_count": null,
   "metadata": {},
   "outputs": [],
   "source": []
  }
 ],
 "metadata": {
  "celltoolbar": "Slideshow",
  "kernelspec": {
   "display_name": "Python 3",
   "language": "python",
   "name": "python3"
  },
  "language_info": {
   "codemirror_mode": {
    "name": "ipython",
    "version": 3
   },
   "file_extension": ".py",
   "mimetype": "text/x-python",
   "name": "python",
   "nbconvert_exporter": "python",
   "pygments_lexer": "ipython3",
   "version": "3.5.2"
  },
  "livereveal": {
   "theme": "beige"
  }
 },
 "nbformat": 4,
 "nbformat_minor": 2
}
